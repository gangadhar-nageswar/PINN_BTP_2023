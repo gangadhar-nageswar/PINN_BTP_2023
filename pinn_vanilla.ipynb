{
  "cells": [
    {
      "cell_type": "markdown",
      "source": [
        "# **Nelder Mead Implementation**"
      ],
      "metadata": {
        "id": "EYpIlD6bPKP_"
      }
    },
    {
      "cell_type": "code",
      "source": [
        "! pip install pyDOE #Latin Hypercube Sampling\n",
        "! pip install plotting"
      ],
      "metadata": {
        "colab": {
          "base_uri": "https://localhost:8080/"
        },
        "id": "f0x9RQ_FzNIg",
        "outputId": "4c5f7914-5e8e-47ce-e18f-7c6ac535f302"
      },
      "execution_count": null,
      "outputs": [
        {
          "output_type": "stream",
          "name": "stdout",
          "text": [
            "Looking in indexes: https://pypi.org/simple, https://us-python.pkg.dev/colab-wheels/public/simple/\n",
            "Collecting pyDOE\n",
            "  Downloading pyDOE-0.3.8.zip (22 kB)\n",
            "Requirement already satisfied: numpy in /usr/local/lib/python3.7/dist-packages (from pyDOE) (1.21.6)\n",
            "Requirement already satisfied: scipy in /usr/local/lib/python3.7/dist-packages (from pyDOE) (1.7.3)\n",
            "Building wheels for collected packages: pyDOE\n",
            "  Building wheel for pyDOE (setup.py) ... \u001b[?25l\u001b[?25hdone\n",
            "  Created wheel for pyDOE: filename=pyDOE-0.3.8-py3-none-any.whl size=18184 sha256=a4a141ee3abd6a0d7db7e59204f99597ca4e6f42d722f8989fc7ca76dc88775c\n",
            "  Stored in directory: /root/.cache/pip/wheels/83/ce/8a/87b25c685bfeca1872d13b8dc101e087a9c6e3fb5ebb47022a\n",
            "Successfully built pyDOE\n",
            "Installing collected packages: pyDOE\n",
            "Successfully installed pyDOE-0.3.8\n",
            "Looking in indexes: https://pypi.org/simple, https://us-python.pkg.dev/colab-wheels/public/simple/\n",
            "Collecting plotting\n",
            "  Downloading plotting-0.0.7-py3-none-any.whl (13 kB)\n",
            "Requirement already satisfied: matplotlib in /usr/local/lib/python3.7/dist-packages (from plotting) (3.2.2)\n",
            "Requirement already satisfied: pandas in /usr/local/lib/python3.7/dist-packages (from plotting) (1.3.5)\n",
            "Requirement already satisfied: seaborn in /usr/local/lib/python3.7/dist-packages (from plotting) (0.11.2)\n",
            "Requirement already satisfied: kiwisolver>=1.0.1 in /usr/local/lib/python3.7/dist-packages (from matplotlib->plotting) (1.4.4)\n",
            "Requirement already satisfied: numpy>=1.11 in /usr/local/lib/python3.7/dist-packages (from matplotlib->plotting) (1.21.6)\n",
            "Requirement already satisfied: cycler>=0.10 in /usr/local/lib/python3.7/dist-packages (from matplotlib->plotting) (0.11.0)\n",
            "Requirement already satisfied: pyparsing!=2.0.4,!=2.1.2,!=2.1.6,>=2.0.1 in /usr/local/lib/python3.7/dist-packages (from matplotlib->plotting) (3.0.9)\n",
            "Requirement already satisfied: python-dateutil>=2.1 in /usr/local/lib/python3.7/dist-packages (from matplotlib->plotting) (2.8.2)\n",
            "Requirement already satisfied: typing-extensions in /usr/local/lib/python3.7/dist-packages (from kiwisolver>=1.0.1->matplotlib->plotting) (4.1.1)\n",
            "Requirement already satisfied: six>=1.5 in /usr/local/lib/python3.7/dist-packages (from python-dateutil>=2.1->matplotlib->plotting) (1.15.0)\n",
            "Requirement already satisfied: pytz>=2017.3 in /usr/local/lib/python3.7/dist-packages (from pandas->plotting) (2022.2.1)\n",
            "Requirement already satisfied: scipy>=1.0 in /usr/local/lib/python3.7/dist-packages (from seaborn->plotting) (1.7.3)\n",
            "Installing collected packages: plotting\n",
            "Successfully installed plotting-0.0.7\n"
          ]
        }
      ]
    },
    {
      "cell_type": "code",
      "source": [
        "import numpy as np\n",
        "import matplotlib.pyplot as plt\n",
        "from matplotlib import cm\n",
        "from mpl_toolkits.axes_grid1 import make_axes_locatable\n",
        "import operator\n",
        "import imageio\n",
        "%matplotlib inline"
      ],
      "metadata": {
        "id": "kZVftZeVPOjW"
      },
      "execution_count": null,
      "outputs": []
    },
    {
      "cell_type": "code",
      "execution_count": null,
      "metadata": {
        "colab": {
          "base_uri": "https://localhost:8080/"
        },
        "id": "ps3AZqnu9XBo",
        "outputId": "0e70f22a-b666-4116-be0e-cd2b77953b52"
      },
      "outputs": [
        {
          "output_type": "stream",
          "name": "stdout",
          "text": [
            "Mounted at /content/drive\n"
          ]
        }
      ],
      "source": [
        "from google.colab import drive\n",
        "drive.mount('/content/drive')"
      ]
    },
    {
      "cell_type": "code",
      "metadata": {
        "id": "L8VQnWk2Na6u"
      },
      "source": [
        "def order(points, function, **kw):\n",
        "    \n",
        "    # dictionary for the objective function {point: value}\n",
        "    obj_func = {}\n",
        "    # number of oracle calls (initialized)\n",
        "    oc = 0\n",
        "    \n",
        "    # for each point in simplex\n",
        "    for point in points:\n",
        "        \n",
        "        # put point and functiion value in dictionary\n",
        "        # point in tuple, because arrays and lists are not hashable\n",
        "        obj_func[tuple(point)] = function(point, **kw)\n",
        "        # increment of the oracle calls number\n",
        "        oc += 1\n",
        "    \n",
        "    # sort dictionary by value\n",
        "    obj_func = sorted(obj_func.items(), key=operator.itemgetter(1))\n",
        "    \n",
        "    # ordered points of simplex\n",
        "    ordered_points = np.array([of[0] for of in obj_func])\n",
        "    # values of the objective function in the ordered points\n",
        "    ordered_of_values = np.array([of[1] for of in obj_func])\n",
        "    \n",
        "    # if any of the values is NaN, raise an exception\n",
        "    if np.any(np.isnan(ordered_of_values)):\n",
        "        raise Exception('NaN values in simplex')\n",
        "    \n",
        "    return ordered_points, ordered_of_values, oc\n",
        "    \n",
        "def centroid(ordered_points):\n",
        "    \n",
        "    # n best points in the (n+1)-simplex\n",
        "    points = ordered_points[:-1]\n",
        "    \n",
        "    # x_0 = mean(points)\n",
        "    center = np.sum(points, axis=0) / points.shape[0]\n",
        "    \n",
        "    return center\n",
        "\n",
        "def reflection(worst_point, center, alpha):\n",
        "\n",
        "    # if the reflection coefficient is negative, raise an exception (point doesn't overlap over centroid)\n",
        "    if alpha <= 0.:\n",
        "        raise Exception('Reflection coefficient is negative: {}'.format(alpha))\n",
        "    \n",
        "    # x_reflected = -alpha * x_worst + (1 + alpha) * x_0\n",
        "    reflected_point = center + alpha * (center - worst_point)\n",
        "    \n",
        "    return reflected_point\n",
        "\n",
        "def expansion(reflected_point, center, gamma):\n",
        "    \n",
        "    # if the expansion coefficient is less than 1, raise an exception (contraction of the reflected point towards centroid)\n",
        "    if gamma <= 1.:\n",
        "        raise Exception('Expansion coefficient is invalid (gamma > 1.0): {}'.format(gamma))\n",
        "    \n",
        "    # x_expanded = gamma * x_reflected + (1 - gamma) * x_0\n",
        "    expanded_point = center + gamma * (reflected_point - center)\n",
        "    \n",
        "    return expanded_point\n",
        "\n",
        "def contraction(worst_point, center, beta):\n",
        "    \n",
        "    # if the contraction coefficient is negative, raise an exception (overlaps over centroid)\n",
        "    # if the contraction coefficient is greater than 0.5, raise an exception (insufficient contraction)\n",
        "    if (beta <= 0.) or (beta > 0.5):\n",
        "        raise Exception('Reflection coefficient is invalid (0.0 < beta <= 0.5): {}'.format(beta))\n",
        "    \n",
        "    # x_contracted = beta * x_worst + (1 - beta) * x_0\n",
        "    contracted_point = center + beta * (worst_point - center)\n",
        "    \n",
        "    return contracted_point\n",
        "\n",
        "def shrinkage(ordered_points, sigma):\n",
        "\n",
        "    if (sigma <= 0.) or (sigma >= 1.):\n",
        "        raise Exception('Shrink coefficient is invalid (0.0 < sigma <= 1.0): {}'.format(sigma))\n",
        "    \n",
        "    # array for shrinked simplex\n",
        "    shrinked_points = np.copy(ordered_points)\n",
        "    \n",
        "    # for each point in simplex, except for the best one\n",
        "    for (i, point) in enumerate(ordered_points[1:]):\n",
        "        \n",
        "        # x_shrinked = sigma * x + (1 - sigma) * x_best\n",
        "        shrinked_points[i+1] = ordered_points[0] + sigma * (point - ordered_points[0])\n",
        "        \n",
        "    return shrinked_points\n",
        "\n",
        "def terminate(points, eps_s, eps_a):\n",
        "    def roll_cut(arr, dims, roll_num):\n",
        "        # if there are overlays in rolling combinations\n",
        "        if (dims % 2 == 0):\n",
        "            # cut the first and last overlayed elements\n",
        "            new_arr = arr[1:-roll_num]\n",
        "        # if there are none\n",
        "        else:\n",
        "            # cut only first element\n",
        "            new_arr = arr[1:]\n",
        "            \n",
        "        return new_arr\n",
        "    \n",
        "    # number of points in simplex\n",
        "    dims = points.shape[0]\n",
        "    \n",
        "    # if there are less than 3 points, the Nelder-Mead algorithm is unfit\n",
        "    if dims < 3:\n",
        "        raise Exception('Invalid amount of points in simplex: {}'.format(dims))\n",
        "    \n",
        "    # number of rolls, necessary to compute the vectors of simplex sides\n",
        "    roll_num = dims / 2\n",
        "    \n",
        "    # array of simplex sides vectors to be filled\n",
        "    vecs = np.zeros((1, dims - 1))\n",
        "    \n",
        "    # after each roll\n",
        "    for i in range(roll_num):\n",
        "        vecs = np.vstack((vecs, points - np.roll(points, i+1, axis=0)))\n",
        "    \n",
        "    # in dependency to the number of points (even), cut repeating vectors ({CA} and {DB} in example above)\n",
        "    vecs = roll_cut(vecs, dims, roll_num)\n",
        "    \n",
        "    # sides of the simplex\n",
        "    norms = np.linalg.norm(vecs, axis=1)\n",
        "    \n",
        "    # number of vectors\n",
        "    vec_dims = vecs.shape[0]\n",
        "    # number of rolls, necessary to compute the vectors dot products (and areas between them)\n",
        "    vec_roll_num = vec_dims / 2\n",
        "    \n",
        "    # array of areas between each couple of vectors to be filled\n",
        "    areas = np.zeros((1, ))\n",
        "    \n",
        "    # after each vectors' roll (same procedure as for points rolling)\n",
        "    for i in range(vec_roll_num):\n",
        "        \n",
        "        # vectors' roll\n",
        "        rolled_vecs = np.roll(vecs, i+1, axis=0)\n",
        "        # dot products of different vectors squared <x,y>^2\n",
        "        dot_prod_sqr = np.einsum('ij,ij->i', vecs, rolled_vecs)**2\n",
        "        # norms of x vecor squared |x|^2\n",
        "        vec_norm_sqr = np.einsum('ij,ij->i', vecs, vecs)\n",
        "        # norms of y vecor squared |y|^2\n",
        "        rolled_vec_norm_sqr = np.einsum('ij,ij->i', rolled_vecs, rolled_vecs)\n",
        "        \n",
        "        # areas of parallelograms, streched onto the vectors x and y (S^2 = |x|^2|y|^2 - <x,y>^2)\n",
        "        area = np.sqrt(vec_norm_sqr * rolled_vec_norm_sqr - dot_prod_sqr)\n",
        "        \n",
        "        # add areas to the array\n",
        "        areas = np.hstack((areas, area))\n",
        "    \n",
        "    # in dependency to the number of vectors (even), cut repeating areas\n",
        "    areas = roll_cut(areas, vec_dims, vec_roll_num)\n",
        "    \n",
        "    # if any area between vectors is coming to 0.0, while sides of simplex remain big,\n",
        "    # the simplex is considered to be degenerated (example: few points on the same axis)\n",
        "    if np.any(areas < eps_a) and np.any(norms > eps_s):\n",
        "        raise Exception('Degenerated simplex, |x|^2|y|^2 - <x,y>^2 = {}^2'.format(np.min(areas)))\n",
        "    \n",
        "    # if all sides of the simplex are smaller than the given limit, the algorithm is terminated\n",
        "    term_condition = np.all(norms < eps_s)\n",
        "    \n",
        "    return term_condition"
      ],
      "execution_count": null,
      "outputs": []
    },
    {
      "cell_type": "markdown",
      "metadata": {
        "id": "7-kAHcwCOSZT"
      },
      "source": [
        "## The Algorithm"
      ]
    },
    {
      "cell_type": "code",
      "metadata": {
        "id": "beFfR6N4Nws_"
      },
      "source": [
        "def nelder_mead_algorithm(init_simplex, function, eps_s, eps_a, alpha, beta, gamma, sigma, **kw):\n",
        "    # number of oracle calls (initialized)\n",
        "    oc = 0\n",
        "    # number of iterations (initialized as -1 to compensate for the initial simplex)\n",
        "    iters = -1\n",
        "    \n",
        "    # current simplex\n",
        "    points = np.copy(init_simplex)\n",
        "    \n",
        "    # array of simplexes\n",
        "    simplexes = np.zeros_like(init_simplex)\n",
        "    \n",
        "    # list of phases\n",
        "    phases = ['Initial simplex']\n",
        "    \n",
        "    while(True):\n",
        "    \n",
        "        ordered_points, f, oc_acc = order(points, function, **kw)\n",
        "        \n",
        "        oc += oc_acc\n",
        "        \n",
        "        simplexes = np.vstack((simplexes, ordered_points))\n",
        "        iters += 1\n",
        "        \n",
        "        if terminate(ordered_points, eps_s, eps_a):\n",
        "            break\n",
        "\n",
        "        x_0 = centroid(ordered_points)\n",
        "\n",
        "        worst_point = ordered_points[-1]\n",
        "        \n",
        "        f_r = np.nan\n",
        "        r_flag = 1.\n",
        "        \n",
        "        while (np.isnan(f_r)):\n",
        "            \n",
        "            x_r = reflection(worst_point, x_0, alpha / r_flag)\n",
        "\n",
        "            f_r = function(x_r, **kw)\n",
        "            \n",
        "            oc += 1\n",
        "            \n",
        "            r_flag *= 2.\n",
        "            \n",
        "            if (r_flag > 1000):\n",
        "                \n",
        "                raise Exception('Can\\'t reflect to the point of NaN (out of domain)')\n",
        "\n",
        "        if (f_r < f[-2]) and (f_r >= f[0]):\n",
        "            \n",
        "            phases.append('Reflection')\n",
        "\n",
        "            ordered_points[-1] = x_r\n",
        "            points = ordered_points\n",
        "\n",
        "        elif (f_r < f[0]):\n",
        "            \n",
        "            f_e = np.nan\n",
        "            e_flag = 1.\n",
        "            \n",
        "            while(np.isnan(f_e)):\n",
        "            \n",
        "                x_e = expansion(x_r, x_0, (gamma + e_flag - 1.) / e_flag)\n",
        "                \n",
        "                f_e = function(x_e, **kw)\n",
        "                \n",
        "                oc += 1\n",
        "                \n",
        "                e_flag *= 2.\n",
        "                \n",
        "                if (e_flag > 1000):\n",
        "                    \n",
        "                    raise Exception('Can\\'t expand to the point of NaN (out of domain)')\n",
        "\n",
        "            if (f_e < f_r):\n",
        "\n",
        "                phases.append('Expansion')\n",
        "\n",
        "                ordered_points[-1] = x_e\n",
        "                points = ordered_points\n",
        "\n",
        "            else:\n",
        "\n",
        "                phases.append('Reflection')\n",
        "\n",
        "                ordered_points[-1] = x_r\n",
        "                points = ordered_points\n",
        "\n",
        "        else:\n",
        "\n",
        "            x_c = contraction(worst_point, x_0, beta)\n",
        "\n",
        "            f_c = function(x_c, **kw)\n",
        "            \n",
        "            oc += 1\n",
        "\n",
        "            if (f_c < f[-1]):\n",
        "\n",
        "                phases.append('Contraction')\n",
        "\n",
        "                ordered_points[-1] = x_c\n",
        "                points = ordered_points\n",
        "\n",
        "            else:\n",
        "\n",
        "                phases.append('Shrinkage')\n",
        "\n",
        "                points = shrinkage(ordered_points, sigma)\n",
        "    \n",
        "    simplexes = simplexes[points.shape[0]:]\n",
        "    sim_num = simplexes.shape[0] / points.shape[0]\n",
        "    simplexes = simplexes.reshape(sim_num, points.shape[0], points.shape[1])\n",
        "    \n",
        "    return ordered_points[0], simplexes, phases, oc, iters"
      ],
      "execution_count": null,
      "outputs": []
    },
    {
      "cell_type": "code",
      "execution_count": null,
      "metadata": {
        "id": "wh0mH9W9h6W7"
      },
      "outputs": [],
      "source": [
        "import sys\n",
        "sys.path.insert(0, '../Utilities/')\n",
        "\n",
        "import torch\n",
        "from collections import OrderedDict\n",
        "\n",
        "from pyDOE import lhs\n",
        "import numpy as np\n",
        "import matplotlib.pyplot as plt\n",
        "import scipy.io\n",
        "from scipy.interpolate import griddata\n",
        "# from plotting import newfig, savefig\n",
        "from mpl_toolkits.axes_grid1 import make_axes_locatable\n",
        "import matplotlib.gridspec as gridspec\n",
        "import time\n",
        "\n",
        "np.random.seed(1234)"
      ]
    },
    {
      "cell_type": "code",
      "execution_count": null,
      "metadata": {
        "id": "mLg6_gcWiQM_"
      },
      "outputs": [],
      "source": [
        "# CUDA support \n",
        "if torch.cuda.is_available():\n",
        "    device = torch.device('cuda')\n",
        "else:\n",
        "    device = torch.device('cpu')"
      ]
    },
    {
      "cell_type": "markdown",
      "metadata": {
        "id": "I597Le6yi4F5"
      },
      "source": [
        "# **Physics-informed Neural Networks**"
      ]
    },
    {
      "cell_type": "code",
      "execution_count": null,
      "metadata": {
        "id": "rg2zU76XiRBB"
      },
      "outputs": [],
      "source": [
        "# the deep neural network\n",
        "class DNN(torch.nn.Module):\n",
        "    def __init__(self, layers):\n",
        "        super(DNN, self).__init__()\n",
        "        \n",
        "        # parameters\n",
        "        self.depth = len(layers) - 1\n",
        "        \n",
        "        # set up layer order dict\n",
        "        self.activation = torch.nn.Tanh\n",
        "        \n",
        "        layer_list = list()\n",
        "        for i in range(self.depth - 1): \n",
        "            layer = torch.nn.Linear(layers[i], layers[i+1])\n",
        "            torch.nn.init.xavier_normal_(layer.weight.data, gain=1.0)\n",
        "            torch.nn.init.zeros_(layer.bias.data)\n",
        "\n",
        "            layer_list.append(\n",
        "                ('layer_%d' % i, layer)\n",
        "            )\n",
        "            layer_list.append(('activation_%d' % i, self.activation()))\n",
        "            # layer_list.append(('dropout_%d'%i, torch.nn.Dropout(0.005)))\n",
        "\n",
        "            # layer_list.append(('normalisation_%d' % i, torch.nn.BatchNorm1d(layers[i+1])))\n",
        "            # layer_list.append(('normalisation_%d' % i, torch.nn.layerNorm(layers[i+1])))\n",
        "\n",
        "        layer_list.append(\n",
        "            ('layer_%d' % (self.depth - 1), torch.nn.Linear(layers[-2], layers[-1]))\n",
        "        )\n",
        "        layerDict = OrderedDict(layer_list)\n",
        "        \n",
        "        # deploy layers\n",
        "        self.layers = torch.nn.Sequential(layerDict)\n",
        "        \n",
        "    def forward(self, x):\n",
        "        out = self.layers(x)\n",
        "        return out\n"
      ]
    },
    {
      "cell_type": "code",
      "execution_count": null,
      "metadata": {
        "id": "-dVFg-gciRTs"
      },
      "outputs": [],
      "source": [
        "# the physics-guided neural network\n",
        "class PhysicsInformedNN():\n",
        "    def __init__(self, X_u, u, X_f, layers, lb, ub, nu, X_star):\n",
        "        \n",
        "        # boundary conditions\n",
        "        self.lb = torch.tensor(lb).float().to(device)\n",
        "        self.ub = torch.tensor(ub).float().to(device)\n",
        "        \n",
        "        # data\n",
        "        self.x_u = torch.tensor(X_u[:, 0:1], requires_grad=True).float().to(device)\n",
        "        self.t_u = torch.tensor(X_u[:, 1:2], requires_grad=True).float().to(device)\n",
        "        self.x_f = torch.tensor(X_f[:, 0:1], requires_grad=True).float().to(device)\n",
        "        self.t_f = torch.tensor(X_f[:, 1:2], requires_grad=True).float().to(device)\n",
        "        self.u = torch.tensor(u).float().to(device)\n",
        "        \n",
        "        self.layers = layers\n",
        "        self.nu = nu\n",
        "        \n",
        "        # deep neural networks\n",
        "        self.dnn = DNN(layers).to(device)\n",
        "\n",
        "        self.iter = 0\n",
        "        \n",
        "    def net_u(self, x, t):  \n",
        "        u = self.dnn(torch.cat([x, t], dim=1))\n",
        "        return u\n",
        "    \n",
        "    def net_f(self, x, t):\n",
        "        \"\"\" The pytorch autograd version of calculating residual \"\"\"\n",
        "        u = self.net_u(x, t)\n",
        "        \n",
        "        u_t = torch.autograd.grad(\n",
        "            u, t, \n",
        "            grad_outputs=torch.ones_like(u),\n",
        "            retain_graph=True,\n",
        "            create_graph=True\n",
        "        )[0]\n",
        "        u_x = torch.autograd.grad(\n",
        "            u, x, \n",
        "            grad_outputs=torch.ones_like(u),\n",
        "            retain_graph=True,\n",
        "            create_graph=True\n",
        "        )[0]\n",
        "        u_xx = torch.autograd.grad(\n",
        "            u_x, x, \n",
        "            grad_outputs=torch.ones_like(u_x),\n",
        "            retain_graph=True,\n",
        "            create_graph=True\n",
        "        )[0]\n",
        "        \n",
        "        f = u_t + u * u_x - self.nu * u_xx\n",
        "        return f\n",
        "\n",
        "    def loss_func(self):\n",
        "        global error_list\n",
        "        \n",
        "        self.optimizer.zero_grad()\n",
        "        \n",
        "        u_pred = self.net_u(self.x_u, self.t_u)\n",
        "        f_pred = self.net_f(self.x_f, self.t_f)\n",
        "        loss_u = torch.mean((self.u - u_pred) ** 2)\n",
        "        loss_f = torch.mean(f_pred ** 2)\n",
        "        \n",
        "        loss = loss_u + loss_f\n",
        "        \n",
        "        self.iter += 1\n",
        "        # if self.iter % 100 == 0:\n",
        "        print(\n",
        "            'Iter %d, Loss: %.5e, Loss_u: %.5e, Loss_f: %.5e' % (self.iter, loss.item(), loss_u.item(), loss_f.item())\n",
        "        )\n",
        "        \n",
        "        # print('Error u: %e' % (error_u))\n",
        "        return loss\n",
        "    \n",
        "    def train(self):\n",
        "        # self.dnn.train()\n",
        "                \n",
        "        # # Backward and optimize\n",
        "        # self.optimizer.step(self.loss_func)\n",
        "        pass\n",
        "            \n",
        "    def predict(self, X):\n",
        "        x = torch.tensor(X[:, 0:1], requires_grad=True).float().to(device)\n",
        "        t = torch.tensor(X[:, 1:2], requires_grad=True).float().to(device)\n",
        "\n",
        "        self.dnn.eval()\n",
        "        u = self.net_u(x, t)\n",
        "        f = self.net_f(x, t)\n",
        "        u = u.detach().cpu().numpy()\n",
        "        f = f.detach().cpu().numpy()\n",
        "        return u, f"
      ]
    },
    {
      "cell_type": "markdown",
      "metadata": {
        "id": "8wkb6umMi8h_"
      },
      "source": [
        "# **Configurations**"
      ]
    },
    {
      "cell_type": "code",
      "execution_count": null,
      "metadata": {
        "id": "hCbkmjYliRZW"
      },
      "outputs": [],
      "source": [
        "nu = 0.01/np.pi\n",
        "noise = 0.0        \n",
        "\n",
        "error_list = []\n",
        "\n",
        "N_u = 100\n",
        "N_f = 10000\n",
        "n_neurs = 20\n",
        "layers = [2, n_neurs, n_neurs, n_neurs, n_neurs, n_neurs, n_neurs, n_neurs, n_neurs, 1]\n",
        "\n",
        "data = scipy.io.loadmat('/content/drive/MyDrive/SEM - 7/BTP/data/burgers_shock.mat')\n",
        "\n",
        "t = data['t'].flatten()[:,None]\n",
        "x = data['x'].flatten()[:,None]\n",
        "Exact = np.real(data['usol']).T\n",
        "\n",
        "X, T = np.meshgrid(x,t)\n",
        "\n",
        "X_star = np.hstack((X.flatten()[:,None], T.flatten()[:,None]))\n",
        "u_star = Exact.flatten()[:,None]              \n",
        "\n",
        "# Doman bounds\n",
        "lb = X_star.min(0)\n",
        "ub = X_star.max(0)\n",
        "mu = X_star.mean()\n",
        "var = X_star.var()    \n",
        "\n",
        "xx1 = np.hstack((X[0:1,:].T, T[0:1,:].T))\n",
        "uu1 = Exact[0:1,:].T\n",
        "xx2 = np.hstack((X[:,0:1], T[:,0:1]))\n",
        "uu2 = Exact[:,0:1]\n",
        "xx3 = np.hstack((X[:,-1:], T[:,-1:]))\n",
        "uu3 = Exact[:,-1:]\n",
        "\n",
        "X_u_train = np.vstack([xx1, xx2, xx3])\n",
        "\n",
        "X_f_train = lb + (ub-lb)*lhs(2, N_f)\n",
        "# X_f_train = (lhs(2, N_f) - mu) / var\n",
        "\n",
        "X_f_train = np.vstack((X_f_train, X_u_train))\n",
        "u_train = np.vstack([uu1, uu2, uu3])\n",
        "\n",
        "idx = np.random.choice(X_u_train.shape[0], N_u, replace=False)\n",
        "X_u_train = X_u_train[idx, :]\n",
        "u_train = u_train[idx,:]\n",
        "\n",
        "#u_pred, f_pred = model.predict(X_star)\n",
        "\n",
        "#error_u = np.linalg.norm(u_star-u_pred,2)/np.linalg.norm(u_star,2)\n",
        "#print('Error u: %e' % (error_u))                     \n",
        "\n",
        "#U_pred = griddata(X_star, u_pred.flatten(), (X, T), method='cubic')\n",
        "#Error = np.abs(Exact - U_pred)"
      ]
    },
    {
      "cell_type": "markdown",
      "metadata": {
        "id": "c1fi_ecfjB0m"
      },
      "source": [
        "# **Training**"
      ]
    },
    {
      "cell_type": "code",
      "execution_count": null,
      "metadata": {
        "id": "L_hnkbjQiReL"
      },
      "outputs": [],
      "source": [
        "model = PhysicsInformedNN(X_u_train, u_train, X_f_train, layers, lb, ub, nu, X_star)"
      ]
    },
    {
      "cell_type": "code",
      "source": [
        "# init weights for simplex\n",
        "for i in range(model.depth - 1): \n",
        "    layer = torch.nn.Linear(model.layers[i], model.layers[i+1])\n",
        "    torch.nn.init.xavier_normal_(layer.weight.data, gain=1.0)\n",
        "    torch.nn.init.zeros_(layer.bias.data)"
      ],
      "metadata": {
        "id": "kik35p3p5YuA"
      },
      "execution_count": null,
      "outputs": []
    },
    {
      "cell_type": "code",
      "source": [
        "INIT_SIMPLEX = np.array()\n",
        "FUNCTION = model.dnn.loss_func\n",
        "EPS_S = 0.1\n",
        "EPS_A = 1e-10\n",
        "ALPHA = 1.\n",
        "BETA = 0.5\n",
        "GAMMA = 2.\n",
        "SIGMA = 0.5\n",
        "DOMAIN = True\n",
        "\n",
        "nelder_mead_algorithm(INIT_SIMPLEX, FUNCTION, EPS_S, EPS_A, ALPHA, BETA, GAMMA, SIGMA, domain=DOMAIN)"
      ],
      "metadata": {
        "id": "1oCNExu54aXj"
      },
      "execution_count": null,
      "outputs": []
    },
    {
      "cell_type": "code",
      "execution_count": null,
      "metadata": {
        "id": "r3E8I_xEiRid"
      },
      "outputs": [],
      "source": [
        "%%time\n",
        "\n",
        "model.train()"
      ]
    },
    {
      "cell_type": "code",
      "execution_count": null,
      "metadata": {
        "colab": {
          "base_uri": "https://localhost:8080/"
        },
        "id": "FMZoVK7SiRmZ",
        "outputId": "2bb5fbd7-2039-4e16-cad6-7ce5b4d7cb14"
      },
      "outputs": [
        {
          "output_type": "stream",
          "name": "stdout",
          "text": [
            "Error u: 3.547275e-03\n"
          ]
        }
      ],
      "source": [
        "u_pred, f_pred = model.predict(X_star)\n",
        "\n",
        "error_u = np.linalg.norm(u_star-u_pred,2)/np.linalg.norm(u_star,2)\n",
        "print('Error u: %e' % (error_u))                     \n",
        "\n",
        "U_pred = griddata(X_star, u_pred.flatten(), (X, T), method='cubic')\n",
        "Error = np.abs(Exact - U_pred)"
      ]
    },
    {
      "cell_type": "code",
      "execution_count": null,
      "metadata": {
        "colab": {
          "base_uri": "https://localhost:8080/",
          "height": 373
        },
        "id": "dVUSWFvMiRqN",
        "outputId": "1ea9c674-b6cd-415c-cca0-ec7a87a43524"
      },
      "outputs": [
        {
          "output_type": "display_data",
          "data": {
            "text/plain": [
              "<Figure size 648x360 with 2 Axes>"
            ],
            "image/png": "[encoded data removed]"
          },
          "metadata": {
            "needs_background": "light"
          }
        }
      ],
      "source": [
        "\"\"\" The aesthetic setting has changed. \"\"\"\n",
        "\n",
        "####### Row 0: u(t,x) ##################    \n",
        "\n",
        "fig = plt.figure(figsize=(9, 5))\n",
        "ax = fig.add_subplot(111)\n",
        "\n",
        "h = ax.imshow(U_pred.T, interpolation='nearest', cmap='rainbow', \n",
        "              extent=[t.min(), t.max(), x.min(), x.max()], \n",
        "              origin='lower', aspect='auto')\n",
        "divider = make_axes_locatable(ax)\n",
        "cax = divider.append_axes(\"right\", size=\"5%\", pad=0.10)\n",
        "cbar = fig.colorbar(h, cax=cax)\n",
        "cbar.ax.tick_params(labelsize=15) \n",
        "\n",
        "ax.plot(\n",
        "    X_u_train[:,1], \n",
        "    X_u_train[:,0], \n",
        "    'kx', label = 'Data (%d points)' % (u_train.shape[0]), \n",
        "    markersize = 4,  # marker size doubled\n",
        "    clip_on = False,\n",
        "    alpha=1.0\n",
        ")\n",
        "\n",
        "line = np.linspace(x.min(), x.max(), 2)[:,None]\n",
        "ax.plot(t[25]*np.ones((2,1)), line, 'w-', linewidth = 1)\n",
        "ax.plot(t[50]*np.ones((2,1)), line, 'w-', linewidth = 1)\n",
        "ax.plot(t[75]*np.ones((2,1)), line, 'w-', linewidth = 1)\n",
        "\n",
        "ax.set_xlabel('$t$', size=20)\n",
        "ax.set_ylabel('$x$', size=20)\n",
        "ax.legend(\n",
        "    loc='upper center', \n",
        "    bbox_to_anchor=(0.9, -0.05), \n",
        "    ncol=5, \n",
        "    frameon=False, \n",
        "    prop={'size': 15}\n",
        ")\n",
        "ax.set_title('$u(t,x)$', fontsize = 20) # font size doubled\n",
        "ax.tick_params(labelsize=15)\n",
        "\n",
        "plt.show()"
      ]
    },
    {
      "cell_type": "markdown",
      "metadata": {
        "id": "jbhD5EASjH0x"
      },
      "source": [
        "# **Visualizations**"
      ]
    },
    {
      "cell_type": "code",
      "execution_count": null,
      "metadata": {
        "colab": {
          "base_uri": "https://localhost:8080/",
          "height": 278
        },
        "id": "lKWSK9wYiRtl",
        "outputId": "e447145c-9eb5-4b01-e076-8c7f4d78869d"
      },
      "outputs": [
        {
          "output_type": "display_data",
          "data": {
            "text/plain": [
              "<Figure size 1008x720 with 3 Axes>"
            ],
            "image/png": "[encoded data removed]"
          },
          "metadata": {
            "needs_background": "light"
          }
        }
      ],
      "source": [
        "####### Row 1: u(t,x) slices ################## \n",
        "\n",
        "\"\"\" The aesthetic setting has changed. \"\"\"\n",
        "\n",
        "fig = plt.figure(figsize=(14, 10))\n",
        "ax = fig.add_subplot(111)\n",
        "\n",
        "gs1 = gridspec.GridSpec(1, 3)\n",
        "gs1.update(top=1-1.0/3.0-0.1, bottom=1.0-2.0/3.0, left=0.1, right=0.9, wspace=0.5)\n",
        "\n",
        "ax = plt.subplot(gs1[0, 0])\n",
        "ax.plot(x,Exact[25,:], 'b-', linewidth = 2, label = 'Exact')       \n",
        "ax.plot(x,U_pred[25,:], 'r--', linewidth = 2, label = 'Prediction')\n",
        "ax.set_xlabel('$x$')\n",
        "ax.set_ylabel('$u(t,x)$')    \n",
        "ax.set_title('$t = 0.25$', fontsize = 15)\n",
        "ax.axis('square')\n",
        "ax.set_xlim([-1.1,1.1])\n",
        "ax.set_ylim([-1.1,1.1])\n",
        "\n",
        "for item in ([ax.title, ax.xaxis.label, ax.yaxis.label] +\n",
        "             ax.get_xticklabels() + ax.get_yticklabels()):\n",
        "    item.set_fontsize(15)\n",
        "\n",
        "ax = plt.subplot(gs1[0, 1])\n",
        "ax.plot(x,Exact[50,:], 'b-', linewidth = 2, label = 'Exact')       \n",
        "ax.plot(x,U_pred[50,:], 'r--', linewidth = 2, label = 'Prediction')\n",
        "ax.set_xlabel('$x$')\n",
        "ax.set_ylabel('$u(t,x)$')\n",
        "ax.axis('square')\n",
        "ax.set_xlim([-1.1,1.1])\n",
        "ax.set_ylim([-1.1,1.1])\n",
        "ax.set_title('$t = 0.50$', fontsize = 15)\n",
        "ax.legend(\n",
        "    loc='upper center', \n",
        "    bbox_to_anchor=(0.5, -0.15), \n",
        "    ncol=5, \n",
        "    frameon=False, \n",
        "    prop={'size': 15}\n",
        ")\n",
        "\n",
        "for item in ([ax.title, ax.xaxis.label, ax.yaxis.label] +\n",
        "             ax.get_xticklabels() + ax.get_yticklabels()):\n",
        "    item.set_fontsize(15)\n",
        "\n",
        "ax = plt.subplot(gs1[0, 2])\n",
        "ax.plot(x,Exact[75,:], 'b-', linewidth = 2, label = 'Exact')       \n",
        "ax.plot(x,U_pred[75,:], 'r--', linewidth = 2, label = 'Prediction')\n",
        "ax.set_xlabel('$x$')\n",
        "ax.set_ylabel('$u(t,x)$')\n",
        "ax.axis('square')\n",
        "ax.set_xlim([-1.1,1.1])\n",
        "ax.set_ylim([-1.1,1.1])    \n",
        "ax.set_title('$t = 0.75$', fontsize = 15)\n",
        "\n",
        "for item in ([ax.title, ax.xaxis.label, ax.yaxis.label] +\n",
        "             ax.get_xticklabels() + ax.get_yticklabels()):\n",
        "    item.set_fontsize(15)\n",
        "\n",
        "plt.show()"
      ]
    },
    {
      "cell_type": "code",
      "execution_count": null,
      "metadata": {
        "colab": {
          "base_uri": "https://localhost:8080/",
          "height": 299
        },
        "id": "PkRy6dQc-Gyk",
        "outputId": "6151be2e-f480-4983-eaf0-9b4054ad270b"
      },
      "outputs": [
        {
          "output_type": "execute_result",
          "data": {
            "text/plain": [
              "Text(0.5, 1.0, 'test error')"
            ]
          },
          "metadata": {},
          "execution_count": 23
        },
        {
          "output_type": "display_data",
          "data": {
            "text/plain": [
              "<Figure size 432x288 with 1 Axes>"
            ],
            "image/png": "[encoded data removed]"
          },
          "metadata": {
            "needs_background": "light"
          }
        }
      ],
      "source": [
        "import matplotlib\n",
        "\n",
        "x_axis = [i for i in range(1,len(error_list)+1)]\n",
        "\n",
        "plt.plot(x_axis, error_list)\n",
        "plt.title(\"test error\")"
      ]
    }
  ],
  "metadata": {
    "accelerator": "GPU",
    "colab": {
      "provenance": []
    },
    "gpuClass": "standard",
    "kernelspec": {
      "display_name": "Python 3",
      "name": "python3"
    },
    "language_info": {
      "name": "python"
    }
  },
  "nbformat": 4,
  "nbformat_minor": 0
}